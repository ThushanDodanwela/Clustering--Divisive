{
  "nbformat": 4,
  "nbformat_minor": 0,
  "metadata": {
    "colab": {
      "name": "Divisive Clustering.ipynb",
      "provenance": [],
      "collapsed_sections": [],
      "authorship_tag": "ABX9TyOhXPs0USvOstTLlfXXaroY",
      "include_colab_link": true
    },
    "kernelspec": {
      "name": "python3",
      "display_name": "Python 3"
    },
    "language_info": {
      "name": "python"
    }
  },
  "cells": [
    {
      "cell_type": "markdown",
      "metadata": {
        "id": "view-in-github",
        "colab_type": "text"
      },
      "source": [
        "<a href=\"https://colab.research.google.com/github/ThushanDodanwela/Clustering--Divisive/blob/master/Divisive_Clustering.ipynb\" target=\"_parent\"><img src=\"https://colab.research.google.com/assets/colab-badge.svg\" alt=\"Open In Colab\"/></a>"
      ]
    },
    {
      "cell_type": "markdown",
      "source": [
        "**Divisive Clustering**\n",
        "\n",
        "\n",
        "*   Divisive Clustering also kknown as 'Top-Down' Clustering\n",
        "*   This is an 'Unsupervised' learning algoritham.\n",
        "*   In Divisive Clustering, what we do is spliting the cluster that contains the whole data and proceeds by splitting clusters recursively until individual data have been split into a single item. \n",
        "\n",
        "\n",
        "\n",
        "\n",
        "\n",
        "\n",
        "\n",
        "\n"
      ],
      "metadata": {
        "id": "9vjX3k64JrRv"
      }
    },
    {
      "cell_type": "markdown",
      "source": [
        "\n",
        "\n",
        "*   First create a data dictionary inclusing Student Id, Height, Weight and Gender. \n",
        "*   Dictionary name can be used as 'std_Dict'\n",
        "\n",
        "\n"
      ],
      "metadata": {
        "id": "Pejcj-NSMuF8"
      }
    },
    {
      "cell_type": "code",
      "source": [
        "std_Dict={'id':['001','002','003','004','005','006','007','008','009','010','011','012','013','014','015','016','017','018','019','020','021','022','023','024','025','026','027','028','029','030','031','032','033','034','035'], \n",
        "          'height':[187.5,175.70,188.23,156.95,159.64,157.20,142.76,141.74,132.97,146.96,148.43,182.19,177.49,170.82,183.94,162.49,159.63,165.68,160.95,148.12,150.17,158.52,163.89,156.80,158.20,157.90,161.17,180.83,164.50,175.87,171.87,157.54,145.46,150.24,152.93],\n",
        "          'weight':[73.62,96.48,99.79,93.58,69.03,83.41,76.17,79.78,70.92,84.62,96.93,75.79,85.91,84.55,78.08,88.90,78.40,84.34,44.08,59.42,58.12,58.85,51.11,52.14,64.86,50.64,57.23,45.54,48.17,48.59,42.51,56.02,55.67,54.98,41.34],\n",
        "          }\n",
        "\n",
        "print(std_Dict)"
      ],
      "metadata": {
        "colab": {
          "base_uri": "https://localhost:8080/"
        },
        "id": "-TWbHjoHM561",
        "outputId": "fb41a53f-5bef-4264-9dba-965f26d8bbea"
      },
      "execution_count": 1,
      "outputs": [
        {
          "output_type": "stream",
          "name": "stdout",
          "text": [
            "{'id': ['001', '002', '003', '004', '005', '006', '007', '008', '009', '010', '011', '012', '013', '014', '015', '016', '017', '018', '019', '020', '021', '022', '023', '024', '025', '026', '027', '028', '029', '030', '031', '032', '033', '034', '035'], 'height': [187.5, 175.7, 188.23, 156.95, 159.64, 157.2, 142.76, 141.74, 132.97, 146.96, 148.43, 182.19, 177.49, 170.82, 183.94, 162.49, 159.63, 165.68, 160.95, 148.12, 150.17, 158.52, 163.89, 156.8, 158.2, 157.9, 161.17, 180.83, 164.5, 175.87, 171.87, 157.54, 145.46, 150.24, 152.93], 'weight': [73.62, 96.48, 99.79, 93.58, 69.03, 83.41, 76.17, 79.78, 70.92, 84.62, 96.93, 75.79, 85.91, 84.55, 78.08, 88.9, 78.4, 84.34, 44.08, 59.42, 58.12, 58.85, 51.11, 52.14, 64.86, 50.64, 57.23, 45.54, 48.17, 48.59, 42.51, 56.02, 55.67, 54.98, 41.34]}\n"
          ]
        }
      ]
    },
    {
      "cell_type": "markdown",
      "source": [
        "Import Libraries "
      ],
      "metadata": {
        "id": "7Q3wMxYbV-Gu"
      }
    },
    {
      "cell_type": "code",
      "source": [
        "import pandas as pd\n",
        "import numpy as np\n",
        "import matplotlib.pyplot as plt\n",
        "import seaborn as sns\n",
        "\n",
        "\n"
      ],
      "metadata": {
        "id": "daxbTgKlWHPi"
      },
      "execution_count": 2,
      "outputs": []
    },
    {
      "cell_type": "markdown",
      "source": [
        "Creating a Table from the Std-Dict Dictinary using Pandas library"
      ],
      "metadata": {
        "id": "xDUUVXuvWKM9"
      }
    },
    {
      "cell_type": "code",
      "source": [
        "data_values = pd.DataFrame.from_dict(std_Dict).set_index('id')\n",
        "data_values"
      ],
      "metadata": {
        "colab": {
          "base_uri": "https://localhost:8080/",
          "height": 1000
        },
        "id": "FlYJp_S6WVXY",
        "outputId": "27d26945-be00-4398-9909-0bdc7795ce4d"
      },
      "execution_count": 3,
      "outputs": [
        {
          "output_type": "execute_result",
          "data": {
            "text/plain": [
              "     height  weight\n",
              "id                 \n",
              "001  187.50   73.62\n",
              "002  175.70   96.48\n",
              "003  188.23   99.79\n",
              "004  156.95   93.58\n",
              "005  159.64   69.03\n",
              "006  157.20   83.41\n",
              "007  142.76   76.17\n",
              "008  141.74   79.78\n",
              "009  132.97   70.92\n",
              "010  146.96   84.62\n",
              "011  148.43   96.93\n",
              "012  182.19   75.79\n",
              "013  177.49   85.91\n",
              "014  170.82   84.55\n",
              "015  183.94   78.08\n",
              "016  162.49   88.90\n",
              "017  159.63   78.40\n",
              "018  165.68   84.34\n",
              "019  160.95   44.08\n",
              "020  148.12   59.42\n",
              "021  150.17   58.12\n",
              "022  158.52   58.85\n",
              "023  163.89   51.11\n",
              "024  156.80   52.14\n",
              "025  158.20   64.86\n",
              "026  157.90   50.64\n",
              "027  161.17   57.23\n",
              "028  180.83   45.54\n",
              "029  164.50   48.17\n",
              "030  175.87   48.59\n",
              "031  171.87   42.51\n",
              "032  157.54   56.02\n",
              "033  145.46   55.67\n",
              "034  150.24   54.98\n",
              "035  152.93   41.34"
            ],
            "text/html": [
              "\n",
              "  <div id=\"df-09b65bee-867f-40db-93d8-4628af4c5b5e\">\n",
              "    <div class=\"colab-df-container\">\n",
              "      <div>\n",
              "<style scoped>\n",
              "    .dataframe tbody tr th:only-of-type {\n",
              "        vertical-align: middle;\n",
              "    }\n",
              "\n",
              "    .dataframe tbody tr th {\n",
              "        vertical-align: top;\n",
              "    }\n",
              "\n",
              "    .dataframe thead th {\n",
              "        text-align: right;\n",
              "    }\n",
              "</style>\n",
              "<table border=\"1\" class=\"dataframe\">\n",
              "  <thead>\n",
              "    <tr style=\"text-align: right;\">\n",
              "      <th></th>\n",
              "      <th>height</th>\n",
              "      <th>weight</th>\n",
              "    </tr>\n",
              "    <tr>\n",
              "      <th>id</th>\n",
              "      <th></th>\n",
              "      <th></th>\n",
              "    </tr>\n",
              "  </thead>\n",
              "  <tbody>\n",
              "    <tr>\n",
              "      <th>001</th>\n",
              "      <td>187.50</td>\n",
              "      <td>73.62</td>\n",
              "    </tr>\n",
              "    <tr>\n",
              "      <th>002</th>\n",
              "      <td>175.70</td>\n",
              "      <td>96.48</td>\n",
              "    </tr>\n",
              "    <tr>\n",
              "      <th>003</th>\n",
              "      <td>188.23</td>\n",
              "      <td>99.79</td>\n",
              "    </tr>\n",
              "    <tr>\n",
              "      <th>004</th>\n",
              "      <td>156.95</td>\n",
              "      <td>93.58</td>\n",
              "    </tr>\n",
              "    <tr>\n",
              "      <th>005</th>\n",
              "      <td>159.64</td>\n",
              "      <td>69.03</td>\n",
              "    </tr>\n",
              "    <tr>\n",
              "      <th>006</th>\n",
              "      <td>157.20</td>\n",
              "      <td>83.41</td>\n",
              "    </tr>\n",
              "    <tr>\n",
              "      <th>007</th>\n",
              "      <td>142.76</td>\n",
              "      <td>76.17</td>\n",
              "    </tr>\n",
              "    <tr>\n",
              "      <th>008</th>\n",
              "      <td>141.74</td>\n",
              "      <td>79.78</td>\n",
              "    </tr>\n",
              "    <tr>\n",
              "      <th>009</th>\n",
              "      <td>132.97</td>\n",
              "      <td>70.92</td>\n",
              "    </tr>\n",
              "    <tr>\n",
              "      <th>010</th>\n",
              "      <td>146.96</td>\n",
              "      <td>84.62</td>\n",
              "    </tr>\n",
              "    <tr>\n",
              "      <th>011</th>\n",
              "      <td>148.43</td>\n",
              "      <td>96.93</td>\n",
              "    </tr>\n",
              "    <tr>\n",
              "      <th>012</th>\n",
              "      <td>182.19</td>\n",
              "      <td>75.79</td>\n",
              "    </tr>\n",
              "    <tr>\n",
              "      <th>013</th>\n",
              "      <td>177.49</td>\n",
              "      <td>85.91</td>\n",
              "    </tr>\n",
              "    <tr>\n",
              "      <th>014</th>\n",
              "      <td>170.82</td>\n",
              "      <td>84.55</td>\n",
              "    </tr>\n",
              "    <tr>\n",
              "      <th>015</th>\n",
              "      <td>183.94</td>\n",
              "      <td>78.08</td>\n",
              "    </tr>\n",
              "    <tr>\n",
              "      <th>016</th>\n",
              "      <td>162.49</td>\n",
              "      <td>88.90</td>\n",
              "    </tr>\n",
              "    <tr>\n",
              "      <th>017</th>\n",
              "      <td>159.63</td>\n",
              "      <td>78.40</td>\n",
              "    </tr>\n",
              "    <tr>\n",
              "      <th>018</th>\n",
              "      <td>165.68</td>\n",
              "      <td>84.34</td>\n",
              "    </tr>\n",
              "    <tr>\n",
              "      <th>019</th>\n",
              "      <td>160.95</td>\n",
              "      <td>44.08</td>\n",
              "    </tr>\n",
              "    <tr>\n",
              "      <th>020</th>\n",
              "      <td>148.12</td>\n",
              "      <td>59.42</td>\n",
              "    </tr>\n",
              "    <tr>\n",
              "      <th>021</th>\n",
              "      <td>150.17</td>\n",
              "      <td>58.12</td>\n",
              "    </tr>\n",
              "    <tr>\n",
              "      <th>022</th>\n",
              "      <td>158.52</td>\n",
              "      <td>58.85</td>\n",
              "    </tr>\n",
              "    <tr>\n",
              "      <th>023</th>\n",
              "      <td>163.89</td>\n",
              "      <td>51.11</td>\n",
              "    </tr>\n",
              "    <tr>\n",
              "      <th>024</th>\n",
              "      <td>156.80</td>\n",
              "      <td>52.14</td>\n",
              "    </tr>\n",
              "    <tr>\n",
              "      <th>025</th>\n",
              "      <td>158.20</td>\n",
              "      <td>64.86</td>\n",
              "    </tr>\n",
              "    <tr>\n",
              "      <th>026</th>\n",
              "      <td>157.90</td>\n",
              "      <td>50.64</td>\n",
              "    </tr>\n",
              "    <tr>\n",
              "      <th>027</th>\n",
              "      <td>161.17</td>\n",
              "      <td>57.23</td>\n",
              "    </tr>\n",
              "    <tr>\n",
              "      <th>028</th>\n",
              "      <td>180.83</td>\n",
              "      <td>45.54</td>\n",
              "    </tr>\n",
              "    <tr>\n",
              "      <th>029</th>\n",
              "      <td>164.50</td>\n",
              "      <td>48.17</td>\n",
              "    </tr>\n",
              "    <tr>\n",
              "      <th>030</th>\n",
              "      <td>175.87</td>\n",
              "      <td>48.59</td>\n",
              "    </tr>\n",
              "    <tr>\n",
              "      <th>031</th>\n",
              "      <td>171.87</td>\n",
              "      <td>42.51</td>\n",
              "    </tr>\n",
              "    <tr>\n",
              "      <th>032</th>\n",
              "      <td>157.54</td>\n",
              "      <td>56.02</td>\n",
              "    </tr>\n",
              "    <tr>\n",
              "      <th>033</th>\n",
              "      <td>145.46</td>\n",
              "      <td>55.67</td>\n",
              "    </tr>\n",
              "    <tr>\n",
              "      <th>034</th>\n",
              "      <td>150.24</td>\n",
              "      <td>54.98</td>\n",
              "    </tr>\n",
              "    <tr>\n",
              "      <th>035</th>\n",
              "      <td>152.93</td>\n",
              "      <td>41.34</td>\n",
              "    </tr>\n",
              "  </tbody>\n",
              "</table>\n",
              "</div>\n",
              "      <button class=\"colab-df-convert\" onclick=\"convertToInteractive('df-09b65bee-867f-40db-93d8-4628af4c5b5e')\"\n",
              "              title=\"Convert this dataframe to an interactive table.\"\n",
              "              style=\"display:none;\">\n",
              "        \n",
              "  <svg xmlns=\"http://www.w3.org/2000/svg\" height=\"24px\"viewBox=\"0 0 24 24\"\n",
              "       width=\"24px\">\n",
              "    <path d=\"M0 0h24v24H0V0z\" fill=\"none\"/>\n",
              "    <path d=\"M18.56 5.44l.94 2.06.94-2.06 2.06-.94-2.06-.94-.94-2.06-.94 2.06-2.06.94zm-11 1L8.5 8.5l.94-2.06 2.06-.94-2.06-.94L8.5 2.5l-.94 2.06-2.06.94zm10 10l.94 2.06.94-2.06 2.06-.94-2.06-.94-.94-2.06-.94 2.06-2.06.94z\"/><path d=\"M17.41 7.96l-1.37-1.37c-.4-.4-.92-.59-1.43-.59-.52 0-1.04.2-1.43.59L10.3 9.45l-7.72 7.72c-.78.78-.78 2.05 0 2.83L4 21.41c.39.39.9.59 1.41.59.51 0 1.02-.2 1.41-.59l7.78-7.78 2.81-2.81c.8-.78.8-2.07 0-2.86zM5.41 20L4 18.59l7.72-7.72 1.47 1.35L5.41 20z\"/>\n",
              "  </svg>\n",
              "      </button>\n",
              "      \n",
              "  <style>\n",
              "    .colab-df-container {\n",
              "      display:flex;\n",
              "      flex-wrap:wrap;\n",
              "      gap: 12px;\n",
              "    }\n",
              "\n",
              "    .colab-df-convert {\n",
              "      background-color: #E8F0FE;\n",
              "      border: none;\n",
              "      border-radius: 50%;\n",
              "      cursor: pointer;\n",
              "      display: none;\n",
              "      fill: #1967D2;\n",
              "      height: 32px;\n",
              "      padding: 0 0 0 0;\n",
              "      width: 32px;\n",
              "    }\n",
              "\n",
              "    .colab-df-convert:hover {\n",
              "      background-color: #E2EBFA;\n",
              "      box-shadow: 0px 1px 2px rgba(60, 64, 67, 0.3), 0px 1px 3px 1px rgba(60, 64, 67, 0.15);\n",
              "      fill: #174EA6;\n",
              "    }\n",
              "\n",
              "    [theme=dark] .colab-df-convert {\n",
              "      background-color: #3B4455;\n",
              "      fill: #D2E3FC;\n",
              "    }\n",
              "\n",
              "    [theme=dark] .colab-df-convert:hover {\n",
              "      background-color: #434B5C;\n",
              "      box-shadow: 0px 1px 3px 1px rgba(0, 0, 0, 0.15);\n",
              "      filter: drop-shadow(0px 1px 2px rgba(0, 0, 0, 0.3));\n",
              "      fill: #FFFFFF;\n",
              "    }\n",
              "  </style>\n",
              "\n",
              "      <script>\n",
              "        const buttonEl =\n",
              "          document.querySelector('#df-09b65bee-867f-40db-93d8-4628af4c5b5e button.colab-df-convert');\n",
              "        buttonEl.style.display =\n",
              "          google.colab.kernel.accessAllowed ? 'block' : 'none';\n",
              "\n",
              "        async function convertToInteractive(key) {\n",
              "          const element = document.querySelector('#df-09b65bee-867f-40db-93d8-4628af4c5b5e');\n",
              "          const dataTable =\n",
              "            await google.colab.kernel.invokeFunction('convertToInteractive',\n",
              "                                                     [key], {});\n",
              "          if (!dataTable) return;\n",
              "\n",
              "          const docLinkHtml = 'Like what you see? Visit the ' +\n",
              "            '<a target=\"_blank\" href=https://colab.research.google.com/notebooks/data_table.ipynb>data table notebook</a>'\n",
              "            + ' to learn more about interactive tables.';\n",
              "          element.innerHTML = '';\n",
              "          dataTable['output_type'] = 'display_data';\n",
              "          await google.colab.output.renderOutput(dataTable, element);\n",
              "          const docLink = document.createElement('div');\n",
              "          docLink.innerHTML = docLinkHtml;\n",
              "          element.appendChild(docLink);\n",
              "        }\n",
              "      </script>\n",
              "    </div>\n",
              "  </div>\n",
              "  "
            ]
          },
          "metadata": {},
          "execution_count": 3
        }
      ]
    },
    {
      "cell_type": "markdown",
      "source": [
        "**Drawing a Scaterrplot using Seaborn Library**\n",
        "\n",
        "After ploting the scatterplot, we can closely see there are 02 different Groups of Data are available. Our Data set can be clustterd based on the weight and height. \n",
        "\n",
        "*This will Emphasise that Height and Weight can be taken into the eqaution*"
      ],
      "metadata": {
        "id": "5PRk_Jc23nGF"
      }
    },
    {
      "cell_type": "code",
      "source": [
        "sns.scatterplot(x=std_Dict['height'], y=std_Dict['weight'])"
      ],
      "metadata": {
        "colab": {
          "base_uri": "https://localhost:8080/",
          "height": 283
        },
        "id": "csXTEcev3VQ0",
        "outputId": "51f914b9-69ae-4f2b-9034-6bf0168c178b"
      },
      "execution_count": 4,
      "outputs": [
        {
          "output_type": "execute_result",
          "data": {
            "text/plain": [
              "<matplotlib.axes._subplots.AxesSubplot at 0x7fae42bd9810>"
            ]
          },
          "metadata": {},
          "execution_count": 4
        },
        {
          "output_type": "display_data",
          "data": {
            "text/plain": [
              "<Figure size 432x288 with 1 Axes>"
            ],
            "image/png": "[encoded data removed]"
          },
          "metadata": {
            "needs_background": "light"
          }
        }
      ]
    },
    {
      "cell_type": "markdown",
      "source": [
        "**Displying the data in a dendrogram**\n",
        "\n",
        "*A dendrogram is a diagram that shows the hierarchical relationship between objects*"
      ],
      "metadata": {
        "id": "JZqtG9Nb0E9B"
      }
    },
    {
      "cell_type": "code",
      "source": [
        "import scipy.cluster.hierarchy as sc\n",
        "\n",
        "values = {'Height_Val':std_Dict['height'],'Weight_Val':std_Dict['weight']}\n",
        "data = pd.DataFrame(values)\n",
        "data\n",
        "\n",
        "# Plot the hierarchical clustering as a dendrogram.\n",
        "\n",
        "dendrogram = sc.dendrogram(sc.linkage(data, method='ward'))\n",
        "\n",
        "plt.title('Dendrogram')\n",
        "plt.show()\n",
        "\n",
        "\n"
      ],
      "metadata": {
        "colab": {
          "base_uri": "https://localhost:8080/",
          "height": 285
        },
        "id": "fMLnbkYr0aQh",
        "outputId": "040bfc25-4a5e-45dd-c433-9a8da2e68e09"
      },
      "execution_count": 5,
      "outputs": [
        {
          "output_type": "display_data",
          "data": {
            "text/plain": [
              "<Figure size 432x288 with 1 Axes>"
            ],
            "image/png": "[encoded data removed]"
          },
          "metadata": {
            "needs_background": "light"
          }
        }
      ]
    },
    {
      "cell_type": "markdown",
      "source": [
        "\n",
        "**Ward linkage:** Also known as MISSQ (Minimal Increase of Sum-of-Squares). It specifies the distance between two clusters, computes the sum of squares error, and successively chooses the next clusters based on the smaller ESS. \n",
        "\n",
        "Ward's method will reduce the Error. \n",
        "\n",
        "\n"
      ],
      "metadata": {
        "id": "yU9wyHuA8sQ5"
      }
    },
    {
      "cell_type": "markdown",
      "source": [
        "# **Plot the Dendogram with threshhold points**"
      ],
      "metadata": {
        "id": "Gvty01HiL6Y3"
      }
    },
    {
      "cell_type": "markdown",
      "source": [
        "**How to find the value for the vertical line?**\n",
        "\n",
        "Finding an interesting number of clusters in a dendrogram is the same as finding the largest horizontal space that doesn't have any vertical lines (the space with the longest vertical lines). This means that there's more separation between the clusters."
      ],
      "metadata": {
        "id": "p7mi2SXFcm3W"
      }
    },
    {
      "cell_type": "code",
      "source": [
        "plt.figure(figsize=(10, 7))\n",
        "plt.title(\"Dendogram with line\")\n",
        "clusters = sc.linkage(data, \n",
        "            method='ward', \n",
        "            metric=\"euclidean\")\n",
        "sc.dendrogram(clusters)\n",
        "plt.axhline(y = 90, color = 'r', linestyle = '--')\n",
        "\n",
        "\n",
        "\n",
        "\n"
      ],
      "metadata": {
        "colab": {
          "base_uri": "https://localhost:8080/",
          "height": 466
        },
        "id": "rwr6xvyR8wyT",
        "outputId": "6de5d85e-cfc2-46c1-d232-d9b1cfeae561"
      },
      "execution_count": 11,
      "outputs": [
        {
          "output_type": "execute_result",
          "data": {
            "text/plain": [
              "<matplotlib.lines.Line2D at 0x7fae3e8f6810>"
            ]
          },
          "metadata": {},
          "execution_count": 11
        },
        {
          "output_type": "display_data",
          "data": {
            "text/plain": [
              "<Figure size 720x504 with 1 Axes>"
            ],
            "image/png": "[encoded data removed]"
          },
          "metadata": {
            "needs_background": "light"
          }
        }
      ]
    },
    {
      "cell_type": "markdown",
      "source": [
        "After locating the horizontal line, we count how many times our vertical lines were crossed by it - In this data set, 2 times.\n",
        "\n",
        "Therefore, The whole Cluster can be dividied into 02 parts.\n",
        "\n",
        "\n",
        "1.   [34,18,30,27,28,29,21,19,20,26,31,25,22,23,32,33]\n",
        "2.   [13,17,12,15,6,16,8,14,1,10,2,3,5,9,4,7,0,11]\n",
        "\n",
        "\n"
      ],
      "metadata": {
        "id": "2DrVvhACdDC-"
      }
    },
    {
      "cell_type": "code",
      "source": [
        "from sklearn.cluster import AgglomerativeClustering\n",
        "cluster = AgglomerativeClustering(n_clusters=2, affinity='euclidean', linkage='ward')  \n",
        "cluster.fit_predict(data)"
      ],
      "metadata": {
        "colab": {
          "base_uri": "https://localhost:8080/"
        },
        "id": "6DuAbVbRrj6A",
        "outputId": "06e9b7cc-c170-487b-abf7-28d0301eb74e"
      },
      "execution_count": 14,
      "outputs": [
        {
          "output_type": "execute_result",
          "data": {
            "text/plain": [
              "array([0, 0, 0, 0, 1, 0, 0, 0, 0, 0, 0, 0, 0, 0, 0, 0, 0, 0, 1, 1, 1, 1,\n",
              "       1, 1, 1, 1, 1, 1, 1, 1, 1, 1, 1, 1, 1])"
            ]
          },
          "metadata": {},
          "execution_count": 14
        }
      ]
    },
    {
      "cell_type": "markdown",
      "source": [
        "From the above array you can clearly see there are 02 clusters availble. "
      ],
      "metadata": {
        "id": "3jGM3RK6wQGV"
      }
    },
    {
      "cell_type": "markdown",
      "source": [
        "***Note:**\n",
        "\n",
        "The dendrogram should be considered only as a reference when used to choose the number of clusters. It can easily get that number way off and is completely influenced by the type of linkage and distance metrics"
      ],
      "metadata": {
        "id": "4r4Et1QydVmW"
      }
    },
    {
      "cell_type": "code",
      "source": [
        "data_labels_pca = cluster.labels_\n",
        "\n",
        "sns.scatterplot(x=std_Dict['height'], \n",
        "                y=std_Dict['weight'],\n",
        "                hue=data_labels_pca,\n",
        "                palette=\"rainbow\").set_title('Scatter Plot')\n"
      ],
      "metadata": {
        "colab": {
          "base_uri": "https://localhost:8080/",
          "height": 299
        },
        "id": "lXdb6KO858pN",
        "outputId": "fc6a98f3-7159-4cc4-be51-141c60cca87f"
      },
      "execution_count": 15,
      "outputs": [
        {
          "output_type": "execute_result",
          "data": {
            "text/plain": [
              "Text(0.5, 1.0, 'Scatter Plot')"
            ]
          },
          "metadata": {},
          "execution_count": 15
        },
        {
          "output_type": "display_data",
          "data": {
            "text/plain": [
              "<Figure size 432x288 with 1 Axes>"
            ],
            "image/png": "[encoded data removed]"
          },
          "metadata": {
            "needs_background": "light"
          }
        }
      ]
    },
    {
      "cell_type": "markdown",
      "source": [
        "**Let's Divided the above two clusters into another sub clusters.**\n",
        "\n"
      ],
      "metadata": {
        "id": "0fcGFyQqda_f"
      }
    },
    {
      "cell_type": "code",
      "source": [
        "plt.figure(figsize=(10, 7))\n",
        "plt.title(\"Dendogram with line\")\n",
        "clusters = sc.linkage(data, \n",
        "            method='ward', \n",
        "            metric=\"euclidean\")\n",
        "sc.dendrogram(clusters)\n",
        "plt.axhline(y = 75, color = 'r', linestyle = '--')"
      ],
      "metadata": {
        "colab": {
          "base_uri": "https://localhost:8080/",
          "height": 466
        },
        "id": "dPzmV5a4wpR3",
        "outputId": "aa9601a9-3649-4abc-d26f-4a0bf5295cf6"
      },
      "execution_count": 12,
      "outputs": [
        {
          "output_type": "execute_result",
          "data": {
            "text/plain": [
              "<matplotlib.lines.Line2D at 0x7fae3e86fbd0>"
            ]
          },
          "metadata": {},
          "execution_count": 12
        },
        {
          "output_type": "display_data",
          "data": {
            "text/plain": [
              "<Figure size 720x504 with 1 Axes>"
            ],
            "image/png": "[encoded data removed]"
          },
          "metadata": {
            "needs_background": "light"
          }
        }
      ]
    },
    {
      "cell_type": "markdown",
      "source": [
        "After locating the horizontal line, we count how many times our vertical lines were crossed by it - In this data set, 3 times.\n",
        "\n",
        "Therefore, The whole Cluster can be dividied into 03 parts."
      ],
      "metadata": {
        "id": "ctmhUJmbw57B"
      }
    },
    {
      "cell_type": "code",
      "source": [
        "from sklearn.cluster import AgglomerativeClustering\n",
        "cluster = AgglomerativeClustering(n_clusters=3, affinity='euclidean', linkage='ward')  \n",
        "cluster.fit_predict(data)"
      ],
      "metadata": {
        "colab": {
          "base_uri": "https://localhost:8080/"
        },
        "id": "zcop0oVzw9rs",
        "outputId": "bd9a7112-6823-49ab-9a88-4a58ff27d076"
      },
      "execution_count": 13,
      "outputs": [
        {
          "output_type": "execute_result",
          "data": {
            "text/plain": [
              "array([2, 2, 2, 1, 0, 1, 1, 1, 1, 1, 1, 2, 2, 1, 2, 1, 1, 1, 0, 0, 0, 0,\n",
              "       0, 0, 0, 0, 0, 0, 0, 0, 0, 0, 0, 0, 0])"
            ]
          },
          "metadata": {},
          "execution_count": 13
        }
      ]
    },
    {
      "cell_type": "markdown",
      "source": [
        "The above array shows how data points are clustered into 03 groups. \n",
        "\n",
        "\n",
        "\n",
        "\n",
        "\n"
      ],
      "metadata": {
        "id": "htC9AfeCyr_S"
      }
    },
    {
      "cell_type": "markdown",
      "source": [
        "Likewise we can divide the whole cluster into single element clusters by using the divisive clusterring algoritham.  "
      ],
      "metadata": {
        "id": "O-yBpXTUzX-K"
      }
    }
  ]
}