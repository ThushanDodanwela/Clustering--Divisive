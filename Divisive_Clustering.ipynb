{
  "nbformat": 4,
  "nbformat_minor": 0,
  "metadata": {
    "colab": {
      "name": "Divisive Clustering.ipynb",
      "provenance": [],
      "collapsed_sections": [],
      "authorship_tag": "ABX9TyNqykmxAGtrHjhFFEM2Hpb4",
      "include_colab_link": true
    },
    "kernelspec": {
      "name": "python3",
      "display_name": "Python 3"
    },
    "language_info": {
      "name": "python"
    }
  },
  "cells": [
    {
      "cell_type": "markdown",
      "metadata": {
        "id": "view-in-github",
        "colab_type": "text"
      },
      "source": [
        "<a href=\"https://colab.research.google.com/github/ThushanDodanwela/Clustering--Divisive/blob/master/Divisive_Clustering.ipynb\" target=\"_parent\"><img src=\"https://colab.research.google.com/assets/colab-badge.svg\" alt=\"Open In Colab\"/></a>"
      ]
    },
    {
      "cell_type": "markdown",
      "source": [
        "**Divisive Clustering**\n",
        "\n",
        "\n",
        "*   Divisive Clustering also kknown as 'Top-Down' Clustering\n",
        "*   This is an 'Unsupervised' learning algoritham.\n",
        "*   In Divisive Clustering, what we do is spliting the cluster that contains the whole data and proceeds by splitting clusters recursively until individual data have been split into a single item. \n",
        "\n",
        "\n",
        "\n",
        "\n",
        "\n",
        "\n",
        "\n",
        "\n"
      ],
      "metadata": {
        "id": "9vjX3k64JrRv"
      }
    },
    {
      "cell_type": "markdown",
      "source": [
        "\n",
        "\n",
        "*   First create a data dictionary inclusing Student Id, Height, Weight and Gender. \n",
        "*   Dictionary name can be used as 'std_Dict'\n",
        "\n",
        "\n"
      ],
      "metadata": {
        "id": "Pejcj-NSMuF8"
      }
    },
    {
      "cell_type": "code",
      "source": [
        "std_Dict={'id':['001','002','003','004','005','006','007','008','009','010','011','012','013','014','015','016','017','018','019','020','021','022','023','024','025','026','027','028','029','030','031','032','033','034','035'], \n",
        "          'height':[187.5,175.70,188.23,182.19,177.49,170.82,161.17,180.83,164.50,175.87,171.87,183.94,162.49,159.63,165.68,160.95,156.95,159.64,157.20,142.76,141.74,132.97,146.96,148.43,148.12,150.17,158.52,163.89,156.80,158.20,157.90,157.54,145.46,150.24,152.93],\n",
        "          'weight':[73.62,86.48,89.79,73.58,69.03,73.41,76.17,79.78,70.92,84.62,66.93,75.79,75.91,84.55,78.08,68.90,78.40,84.34,44.08,59.42,58.12,58.85,51.11,52.14,64.86,50.64,57.23,45.54,48.17,48.59,42.51,56.02,55.67,54.98,41.34],\n",
        "          'gender':['M','M','M','M','M','M','M','M','M','M','M','M','M','M','M','M','M','M','F','F','F','F','F','F','F','F','F','F','F','F','F','F','F','F','F']}\n",
        "\n",
        "print(std_Dict)"
      ],
      "metadata": {
        "colab": {
          "base_uri": "https://localhost:8080/"
        },
        "id": "-TWbHjoHM561",
        "outputId": "447c3720-6c35-49c8-998a-71e442aa7649"
      },
      "execution_count": 29,
      "outputs": [
        {
          "output_type": "stream",
          "name": "stdout",
          "text": [
            "{'id': ['001', '002', '003', '004', '005', '006', '007', '008', '009', '010', '011', '012', '013', '014', '015', '016', '017', '018', '019', '020', '021', '022', '023', '024', '025', '026', '027', '028', '029', '030', '031', '032', '033', '034', '035'], 'height': [187.5, 175.7, 188.23, 182.19, 177.49, 170.82, 161.17, 180.83, 164.5, 175.87, 171.87, 183.94, 162.49, 159.63, 165.68, 160.95, 156.95, 159.64, 157.2, 142.76, 141.74, 132.97, 146.96, 148.43, 148.12, 150.17, 158.52, 163.89, 156.8, 158.2, 157.9, 157.54, 145.46, 150.24, 152.93], 'weight': [73.62, 86.48, 89.79, 73.58, 69.03, 73.41, 76.17, 79.78, 70.92, 84.62, 66.93, 75.79, 75.91, 84.55, 78.08, 68.9, 78.4, 84.34, 44.08, 59.42, 58.12, 58.85, 51.11, 52.14, 64.86, 50.64, 57.23, 45.54, 48.17, 48.59, 42.51, 56.02, 55.67, 54.98, 41.34], 'gender': ['M', 'M', 'M', 'M', 'M', 'M', 'M', 'M', 'M', 'M', 'M', 'M', 'M', 'M', 'M', 'M', 'M', 'M', 'F', 'F', 'F', 'F', 'F', 'F', 'F', 'F', 'F', 'F', 'F', 'F', 'F', 'F', 'F', 'F', 'F']}\n"
          ]
        }
      ]
    },
    {
      "cell_type": "markdown",
      "source": [
        "Import Libraries "
      ],
      "metadata": {
        "id": "7Q3wMxYbV-Gu"
      }
    },
    {
      "cell_type": "code",
      "source": [
        "import pandas as pd\n",
        "import numpy as np\n",
        "import matplotlib.pyplot as plt\n",
        "import seaborn as sns\n",
        "\n",
        "\n"
      ],
      "metadata": {
        "id": "daxbTgKlWHPi"
      },
      "execution_count": 30,
      "outputs": []
    },
    {
      "cell_type": "markdown",
      "source": [
        "Creating a Table from the Std-Dict Dictinary using Pandas library"
      ],
      "metadata": {
        "id": "xDUUVXuvWKM9"
      }
    },
    {
      "cell_type": "code",
      "source": [
        "data_values = pd.DataFrame.from_dict(std_Dict).set_index('id')\n",
        "data_values"
      ],
      "metadata": {
        "colab": {
          "base_uri": "https://localhost:8080/",
          "height": 1000
        },
        "id": "FlYJp_S6WVXY",
        "outputId": "73b1fa82-7775-4105-8151-6fcca558d471"
      },
      "execution_count": 31,
      "outputs": [
        {
          "output_type": "execute_result",
          "data": {
            "text/plain": [
              "     height  weight gender\n",
              "id                        \n",
              "001  187.50   73.62      M\n",
              "002  175.70   86.48      M\n",
              "003  188.23   89.79      M\n",
              "004  182.19   73.58      M\n",
              "005  177.49   69.03      M\n",
              "006  170.82   73.41      M\n",
              "007  161.17   76.17      M\n",
              "008  180.83   79.78      M\n",
              "009  164.50   70.92      M\n",
              "010  175.87   84.62      M\n",
              "011  171.87   66.93      M\n",
              "012  183.94   75.79      M\n",
              "013  162.49   75.91      M\n",
              "014  159.63   84.55      M\n",
              "015  165.68   78.08      M\n",
              "016  160.95   68.90      M\n",
              "017  156.95   78.40      M\n",
              "018  159.64   84.34      M\n",
              "019  157.20   44.08      F\n",
              "020  142.76   59.42      F\n",
              "021  141.74   58.12      F\n",
              "022  132.97   58.85      F\n",
              "023  146.96   51.11      F\n",
              "024  148.43   52.14      F\n",
              "025  148.12   64.86      F\n",
              "026  150.17   50.64      F\n",
              "027  158.52   57.23      F\n",
              "028  163.89   45.54      F\n",
              "029  156.80   48.17      F\n",
              "030  158.20   48.59      F\n",
              "031  157.90   42.51      F\n",
              "032  157.54   56.02      F\n",
              "033  145.46   55.67      F\n",
              "034  150.24   54.98      F\n",
              "035  152.93   41.34      F"
            ],
            "text/html": [
              "\n",
              "  <div id=\"df-671245f2-80ee-4d42-bf63-944291f5c398\">\n",
              "    <div class=\"colab-df-container\">\n",
              "      <div>\n",
              "<style scoped>\n",
              "    .dataframe tbody tr th:only-of-type {\n",
              "        vertical-align: middle;\n",
              "    }\n",
              "\n",
              "    .dataframe tbody tr th {\n",
              "        vertical-align: top;\n",
              "    }\n",
              "\n",
              "    .dataframe thead th {\n",
              "        text-align: right;\n",
              "    }\n",
              "</style>\n",
              "<table border=\"1\" class=\"dataframe\">\n",
              "  <thead>\n",
              "    <tr style=\"text-align: right;\">\n",
              "      <th></th>\n",
              "      <th>height</th>\n",
              "      <th>weight</th>\n",
              "      <th>gender</th>\n",
              "    </tr>\n",
              "    <tr>\n",
              "      <th>id</th>\n",
              "      <th></th>\n",
              "      <th></th>\n",
              "      <th></th>\n",
              "    </tr>\n",
              "  </thead>\n",
              "  <tbody>\n",
              "    <tr>\n",
              "      <th>001</th>\n",
              "      <td>187.50</td>\n",
              "      <td>73.62</td>\n",
              "      <td>M</td>\n",
              "    </tr>\n",
              "    <tr>\n",
              "      <th>002</th>\n",
              "      <td>175.70</td>\n",
              "      <td>86.48</td>\n",
              "      <td>M</td>\n",
              "    </tr>\n",
              "    <tr>\n",
              "      <th>003</th>\n",
              "      <td>188.23</td>\n",
              "      <td>89.79</td>\n",
              "      <td>M</td>\n",
              "    </tr>\n",
              "    <tr>\n",
              "      <th>004</th>\n",
              "      <td>182.19</td>\n",
              "      <td>73.58</td>\n",
              "      <td>M</td>\n",
              "    </tr>\n",
              "    <tr>\n",
              "      <th>005</th>\n",
              "      <td>177.49</td>\n",
              "      <td>69.03</td>\n",
              "      <td>M</td>\n",
              "    </tr>\n",
              "    <tr>\n",
              "      <th>006</th>\n",
              "      <td>170.82</td>\n",
              "      <td>73.41</td>\n",
              "      <td>M</td>\n",
              "    </tr>\n",
              "    <tr>\n",
              "      <th>007</th>\n",
              "      <td>161.17</td>\n",
              "      <td>76.17</td>\n",
              "      <td>M</td>\n",
              "    </tr>\n",
              "    <tr>\n",
              "      <th>008</th>\n",
              "      <td>180.83</td>\n",
              "      <td>79.78</td>\n",
              "      <td>M</td>\n",
              "    </tr>\n",
              "    <tr>\n",
              "      <th>009</th>\n",
              "      <td>164.50</td>\n",
              "      <td>70.92</td>\n",
              "      <td>M</td>\n",
              "    </tr>\n",
              "    <tr>\n",
              "      <th>010</th>\n",
              "      <td>175.87</td>\n",
              "      <td>84.62</td>\n",
              "      <td>M</td>\n",
              "    </tr>\n",
              "    <tr>\n",
              "      <th>011</th>\n",
              "      <td>171.87</td>\n",
              "      <td>66.93</td>\n",
              "      <td>M</td>\n",
              "    </tr>\n",
              "    <tr>\n",
              "      <th>012</th>\n",
              "      <td>183.94</td>\n",
              "      <td>75.79</td>\n",
              "      <td>M</td>\n",
              "    </tr>\n",
              "    <tr>\n",
              "      <th>013</th>\n",
              "      <td>162.49</td>\n",
              "      <td>75.91</td>\n",
              "      <td>M</td>\n",
              "    </tr>\n",
              "    <tr>\n",
              "      <th>014</th>\n",
              "      <td>159.63</td>\n",
              "      <td>84.55</td>\n",
              "      <td>M</td>\n",
              "    </tr>\n",
              "    <tr>\n",
              "      <th>015</th>\n",
              "      <td>165.68</td>\n",
              "      <td>78.08</td>\n",
              "      <td>M</td>\n",
              "    </tr>\n",
              "    <tr>\n",
              "      <th>016</th>\n",
              "      <td>160.95</td>\n",
              "      <td>68.90</td>\n",
              "      <td>M</td>\n",
              "    </tr>\n",
              "    <tr>\n",
              "      <th>017</th>\n",
              "      <td>156.95</td>\n",
              "      <td>78.40</td>\n",
              "      <td>M</td>\n",
              "    </tr>\n",
              "    <tr>\n",
              "      <th>018</th>\n",
              "      <td>159.64</td>\n",
              "      <td>84.34</td>\n",
              "      <td>M</td>\n",
              "    </tr>\n",
              "    <tr>\n",
              "      <th>019</th>\n",
              "      <td>157.20</td>\n",
              "      <td>44.08</td>\n",
              "      <td>F</td>\n",
              "    </tr>\n",
              "    <tr>\n",
              "      <th>020</th>\n",
              "      <td>142.76</td>\n",
              "      <td>59.42</td>\n",
              "      <td>F</td>\n",
              "    </tr>\n",
              "    <tr>\n",
              "      <th>021</th>\n",
              "      <td>141.74</td>\n",
              "      <td>58.12</td>\n",
              "      <td>F</td>\n",
              "    </tr>\n",
              "    <tr>\n",
              "      <th>022</th>\n",
              "      <td>132.97</td>\n",
              "      <td>58.85</td>\n",
              "      <td>F</td>\n",
              "    </tr>\n",
              "    <tr>\n",
              "      <th>023</th>\n",
              "      <td>146.96</td>\n",
              "      <td>51.11</td>\n",
              "      <td>F</td>\n",
              "    </tr>\n",
              "    <tr>\n",
              "      <th>024</th>\n",
              "      <td>148.43</td>\n",
              "      <td>52.14</td>\n",
              "      <td>F</td>\n",
              "    </tr>\n",
              "    <tr>\n",
              "      <th>025</th>\n",
              "      <td>148.12</td>\n",
              "      <td>64.86</td>\n",
              "      <td>F</td>\n",
              "    </tr>\n",
              "    <tr>\n",
              "      <th>026</th>\n",
              "      <td>150.17</td>\n",
              "      <td>50.64</td>\n",
              "      <td>F</td>\n",
              "    </tr>\n",
              "    <tr>\n",
              "      <th>027</th>\n",
              "      <td>158.52</td>\n",
              "      <td>57.23</td>\n",
              "      <td>F</td>\n",
              "    </tr>\n",
              "    <tr>\n",
              "      <th>028</th>\n",
              "      <td>163.89</td>\n",
              "      <td>45.54</td>\n",
              "      <td>F</td>\n",
              "    </tr>\n",
              "    <tr>\n",
              "      <th>029</th>\n",
              "      <td>156.80</td>\n",
              "      <td>48.17</td>\n",
              "      <td>F</td>\n",
              "    </tr>\n",
              "    <tr>\n",
              "      <th>030</th>\n",
              "      <td>158.20</td>\n",
              "      <td>48.59</td>\n",
              "      <td>F</td>\n",
              "    </tr>\n",
              "    <tr>\n",
              "      <th>031</th>\n",
              "      <td>157.90</td>\n",
              "      <td>42.51</td>\n",
              "      <td>F</td>\n",
              "    </tr>\n",
              "    <tr>\n",
              "      <th>032</th>\n",
              "      <td>157.54</td>\n",
              "      <td>56.02</td>\n",
              "      <td>F</td>\n",
              "    </tr>\n",
              "    <tr>\n",
              "      <th>033</th>\n",
              "      <td>145.46</td>\n",
              "      <td>55.67</td>\n",
              "      <td>F</td>\n",
              "    </tr>\n",
              "    <tr>\n",
              "      <th>034</th>\n",
              "      <td>150.24</td>\n",
              "      <td>54.98</td>\n",
              "      <td>F</td>\n",
              "    </tr>\n",
              "    <tr>\n",
              "      <th>035</th>\n",
              "      <td>152.93</td>\n",
              "      <td>41.34</td>\n",
              "      <td>F</td>\n",
              "    </tr>\n",
              "  </tbody>\n",
              "</table>\n",
              "</div>\n",
              "      <button class=\"colab-df-convert\" onclick=\"convertToInteractive('df-671245f2-80ee-4d42-bf63-944291f5c398')\"\n",
              "              title=\"Convert this dataframe to an interactive table.\"\n",
              "              style=\"display:none;\">\n",
              "        \n",
              "  <svg xmlns=\"http://www.w3.org/2000/svg\" height=\"24px\"viewBox=\"0 0 24 24\"\n",
              "       width=\"24px\">\n",
              "    <path d=\"M0 0h24v24H0V0z\" fill=\"none\"/>\n",
              "    <path d=\"M18.56 5.44l.94 2.06.94-2.06 2.06-.94-2.06-.94-.94-2.06-.94 2.06-2.06.94zm-11 1L8.5 8.5l.94-2.06 2.06-.94-2.06-.94L8.5 2.5l-.94 2.06-2.06.94zm10 10l.94 2.06.94-2.06 2.06-.94-2.06-.94-.94-2.06-.94 2.06-2.06.94z\"/><path d=\"M17.41 7.96l-1.37-1.37c-.4-.4-.92-.59-1.43-.59-.52 0-1.04.2-1.43.59L10.3 9.45l-7.72 7.72c-.78.78-.78 2.05 0 2.83L4 21.41c.39.39.9.59 1.41.59.51 0 1.02-.2 1.41-.59l7.78-7.78 2.81-2.81c.8-.78.8-2.07 0-2.86zM5.41 20L4 18.59l7.72-7.72 1.47 1.35L5.41 20z\"/>\n",
              "  </svg>\n",
              "      </button>\n",
              "      \n",
              "  <style>\n",
              "    .colab-df-container {\n",
              "      display:flex;\n",
              "      flex-wrap:wrap;\n",
              "      gap: 12px;\n",
              "    }\n",
              "\n",
              "    .colab-df-convert {\n",
              "      background-color: #E8F0FE;\n",
              "      border: none;\n",
              "      border-radius: 50%;\n",
              "      cursor: pointer;\n",
              "      display: none;\n",
              "      fill: #1967D2;\n",
              "      height: 32px;\n",
              "      padding: 0 0 0 0;\n",
              "      width: 32px;\n",
              "    }\n",
              "\n",
              "    .colab-df-convert:hover {\n",
              "      background-color: #E2EBFA;\n",
              "      box-shadow: 0px 1px 2px rgba(60, 64, 67, 0.3), 0px 1px 3px 1px rgba(60, 64, 67, 0.15);\n",
              "      fill: #174EA6;\n",
              "    }\n",
              "\n",
              "    [theme=dark] .colab-df-convert {\n",
              "      background-color: #3B4455;\n",
              "      fill: #D2E3FC;\n",
              "    }\n",
              "\n",
              "    [theme=dark] .colab-df-convert:hover {\n",
              "      background-color: #434B5C;\n",
              "      box-shadow: 0px 1px 3px 1px rgba(0, 0, 0, 0.15);\n",
              "      filter: drop-shadow(0px 1px 2px rgba(0, 0, 0, 0.3));\n",
              "      fill: #FFFFFF;\n",
              "    }\n",
              "  </style>\n",
              "\n",
              "      <script>\n",
              "        const buttonEl =\n",
              "          document.querySelector('#df-671245f2-80ee-4d42-bf63-944291f5c398 button.colab-df-convert');\n",
              "        buttonEl.style.display =\n",
              "          google.colab.kernel.accessAllowed ? 'block' : 'none';\n",
              "\n",
              "        async function convertToInteractive(key) {\n",
              "          const element = document.querySelector('#df-671245f2-80ee-4d42-bf63-944291f5c398');\n",
              "          const dataTable =\n",
              "            await google.colab.kernel.invokeFunction('convertToInteractive',\n",
              "                                                     [key], {});\n",
              "          if (!dataTable) return;\n",
              "\n",
              "          const docLinkHtml = 'Like what you see? Visit the ' +\n",
              "            '<a target=\"_blank\" href=https://colab.research.google.com/notebooks/data_table.ipynb>data table notebook</a>'\n",
              "            + ' to learn more about interactive tables.';\n",
              "          element.innerHTML = '';\n",
              "          dataTable['output_type'] = 'display_data';\n",
              "          await google.colab.output.renderOutput(dataTable, element);\n",
              "          const docLink = document.createElement('div');\n",
              "          docLink.innerHTML = docLinkHtml;\n",
              "          element.appendChild(docLink);\n",
              "        }\n",
              "      </script>\n",
              "    </div>\n",
              "  </div>\n",
              "  "
            ]
          },
          "metadata": {},
          "execution_count": 31
        }
      ]
    },
    {
      "cell_type": "markdown",
      "source": [
        "**Drawing a Scaterrplot using Seaborn Library**\n",
        "\n",
        "After ploting the scatterplot, we can closely see there are 02 different Groups of Data are available. Our Data set can be clustterd based on the weight and height. \n",
        "\n",
        "*This will Emphasise that Height and Weight can be taken into the eqaution*"
      ],
      "metadata": {
        "id": "5PRk_Jc23nGF"
      }
    },
    {
      "cell_type": "code",
      "source": [
        "sns.scatterplot(x=std_Dict['height'], y=std_Dict['weight'])"
      ],
      "metadata": {
        "colab": {
          "base_uri": "https://localhost:8080/",
          "height": 283
        },
        "id": "csXTEcev3VQ0",
        "outputId": "c66cc889-061b-4d4e-c1c2-4f39dc9a8560"
      },
      "execution_count": 32,
      "outputs": [
        {
          "output_type": "execute_result",
          "data": {
            "text/plain": [
              "<matplotlib.axes._subplots.AxesSubplot at 0x7fae3e38b490>"
            ]
          },
          "metadata": {},
          "execution_count": 32
        },
        {
          "output_type": "display_data",
          "data": {
            "text/plain": [
              "<Figure size 432x288 with 1 Axes>"
            ],
            "image/png": "[encoded data removed]"
          },
          "metadata": {
            "needs_background": "light"
          }
        }
      ]
    },
    {
      "cell_type": "markdown",
      "source": [
        "**Displying the data in a dendrogram**\n",
        "\n",
        "*A dendrogram is a diagram that shows the hierarchical relationship between objects*"
      ],
      "metadata": {
        "id": "JZqtG9Nb0E9B"
      }
    },
    {
      "cell_type": "code",
      "source": [
        "import scipy.cluster.hierarchy as sc\n",
        "\n",
        "values = {'Height_Val':std_Dict['height'],'Weight_Val':std_Dict['weight']}\n",
        "data = pd.DataFrame(values)\n",
        "data\n",
        "\n",
        "# Plot the hierarchical clustering as a dendrogram.\n",
        "\n",
        "dendrogram = sc.dendrogram(sc.linkage(data, method='ward'))\n",
        "\n",
        "plt.title('Dendrogram')\n",
        "plt.show()\n",
        "\n",
        "\n"
      ],
      "metadata": {
        "colab": {
          "base_uri": "https://localhost:8080/",
          "height": 285
        },
        "id": "fMLnbkYr0aQh",
        "outputId": "7318bb85-8f8d-4c60-eb7a-2f06bcbff65b"
      },
      "execution_count": 33,
      "outputs": [
        {
          "output_type": "display_data",
          "data": {
            "text/plain": [
              "<Figure size 432x288 with 1 Axes>"
            ],
            "image/png": "[encoded data removed]"
          },
          "metadata": {
            "needs_background": "light"
          }
        }
      ]
    },
    {
      "cell_type": "markdown",
      "source": [
        "\n",
        "**Ward linkage:** Also known as MISSQ (Minimal Increase of Sum-of-Squares). It specifies the distance between two clusters, computes the sum of squares error, and successively chooses the next clusters based on the smaller ESS. \n",
        "\n",
        "Ward's method will reduce the Error. \n",
        "\n",
        "\n"
      ],
      "metadata": {
        "id": "yU9wyHuA8sQ5"
      }
    },
    {
      "cell_type": "markdown",
      "source": [
        "# **Plot the Dendogram with threshhold points**"
      ],
      "metadata": {
        "id": "Gvty01HiL6Y3"
      }
    },
    {
      "cell_type": "markdown",
      "source": [
        "**How to find the value for the vertical line?**\n",
        "\n",
        "Finding an interesting number of clusters in a dendrogram is the same as finding the largest horizontal space that doesn't have any vertical lines (the space with the longest vertical lines). This means that there's more separation between the clusters."
      ],
      "metadata": {
        "id": "p7mi2SXFcm3W"
      }
    },
    {
      "cell_type": "code",
      "source": [
        "plt.figure(figsize=(10, 7))\n",
        "plt.title(\"Dendogram with line\")\n",
        "clusters = sc.linkage(data, \n",
        "            method='ward', \n",
        "            metric=\"euclidean\")\n",
        "sc.dendrogram(clusters)\n",
        "plt.axhline(y = 60, color = 'r', linestyle = '--')\n",
        "\n",
        "\n",
        "\n",
        "\n"
      ],
      "metadata": {
        "colab": {
          "base_uri": "https://localhost:8080/",
          "height": 466
        },
        "id": "rwr6xvyR8wyT",
        "outputId": "0eea9193-de01-4a4e-ed77-47818455fe8f"
      },
      "execution_count": 34,
      "outputs": [
        {
          "output_type": "execute_result",
          "data": {
            "text/plain": [
              "<matplotlib.lines.Line2D at 0x7fae3e3813d0>"
            ]
          },
          "metadata": {},
          "execution_count": 34
        },
        {
          "output_type": "display_data",
          "data": {
            "text/plain": [
              "<Figure size 720x504 with 1 Axes>"
            ],
            "image/png": "[encoded data removed]"
          },
          "metadata": {
            "needs_background": "light"
          }
        }
      ]
    },
    {
      "cell_type": "markdown",
      "source": [
        "After locating the horizontal line, we count how many times our vertical lines were crossed by it - In this data set, 2 times.\n",
        "\n",
        "Therefore, The whole Cluster can be dividied into 02 parts.\n",
        "\n",
        "\n",
        "1.   [34,18,30,27,28,29,21,19,20,26,31,25,22,23,32,33]\n",
        "2.   [13,17,12,15,6,16,8,14,1,10,2,3,5,9,4,7,0,11]\n",
        "\n",
        "\n"
      ],
      "metadata": {
        "id": "2DrVvhACdDC-"
      }
    },
    {
      "cell_type": "code",
      "source": [
        "from sklearn.cluster import AgglomerativeClustering\n",
        "cluster = AgglomerativeClustering(n_clusters=2, affinity='euclidean', linkage='ward')  \n",
        "cluster.fit_predict(data)"
      ],
      "metadata": {
        "colab": {
          "base_uri": "https://localhost:8080/"
        },
        "id": "6DuAbVbRrj6A",
        "outputId": "462bdeca-22da-4c07-f941-fa5cb7660bbe"
      },
      "execution_count": 35,
      "outputs": [
        {
          "output_type": "execute_result",
          "data": {
            "text/plain": [
              "array([0, 0, 0, 0, 0, 0, 0, 0, 0, 0, 0, 0, 0, 0, 0, 0, 0, 0, 1, 1, 1, 1,\n",
              "       1, 1, 1, 1, 1, 1, 1, 1, 1, 1, 1, 1, 1])"
            ]
          },
          "metadata": {},
          "execution_count": 35
        }
      ]
    },
    {
      "cell_type": "markdown",
      "source": [
        "From the above array you can clearly see there are 02 clusters availble. "
      ],
      "metadata": {
        "id": "3jGM3RK6wQGV"
      }
    },
    {
      "cell_type": "markdown",
      "source": [
        "***Note:**\n",
        "\n",
        "The dendrogram should be considered only as a reference when used to choose the number of clusters. It can easily get that number way off and is completely influenced by the type of linkage and distance metrics"
      ],
      "metadata": {
        "id": "4r4Et1QydVmW"
      }
    },
    {
      "cell_type": "markdown",
      "source": [
        "**Let's Divided the above two clusters into another sub clusters.**\n",
        "\n"
      ],
      "metadata": {
        "id": "0fcGFyQqda_f"
      }
    },
    {
      "cell_type": "code",
      "source": [
        "data_labels_pca = cluster.labels_\n",
        "\n",
        "sns.scatterplot(x=std_Dict['height'], \n",
        "                y=std_Dict['weight'],\n",
        "                hue=data_labels_pca,\n",
        "                palette=\"rainbow\").set_title('Scatter Plot')\n"
      ],
      "metadata": {
        "colab": {
          "base_uri": "https://localhost:8080/",
          "height": 299
        },
        "id": "lXdb6KO858pN",
        "outputId": "97858bc8-db17-4ece-d1a3-9d526e566aa6"
      },
      "execution_count": 36,
      "outputs": [
        {
          "output_type": "execute_result",
          "data": {
            "text/plain": [
              "Text(0.5, 1.0, 'Scatter Plot')"
            ]
          },
          "metadata": {},
          "execution_count": 36
        },
        {
          "output_type": "display_data",
          "data": {
            "text/plain": [
              "<Figure size 432x288 with 1 Axes>"
            ],
            "image/png": "[encoded data removed]"
          },
          "metadata": {
            "needs_background": "light"
          }
        }
      ]
    },
    {
      "cell_type": "code",
      "source": [
        "plt.figure(figsize=(10, 7))\n",
        "plt.title(\"Dendogram with line\")\n",
        "clusters = sc.linkage(data, \n",
        "            method='ward', \n",
        "            metric=\"euclidean\")\n",
        "sc.dendrogram(clusters)\n",
        "plt.axhline(y = 35, color = 'r', linestyle = '--')"
      ],
      "metadata": {
        "colab": {
          "base_uri": "https://localhost:8080/",
          "height": 466
        },
        "id": "dPzmV5a4wpR3",
        "outputId": "eb5fd947-1038-4787-bed0-3ed4029d1a38"
      },
      "execution_count": 39,
      "outputs": [
        {
          "output_type": "execute_result",
          "data": {
            "text/plain": [
              "<matplotlib.lines.Line2D at 0x7fae3e034250>"
            ]
          },
          "metadata": {},
          "execution_count": 39
        },
        {
          "output_type": "display_data",
          "data": {
            "text/plain": [
              "<Figure size 720x504 with 1 Axes>"
            ],
            "image/png": "[encoded data removed]"
          },
          "metadata": {
            "needs_background": "light"
          }
        }
      ]
    },
    {
      "cell_type": "markdown",
      "source": [
        "After locating the horizontal line, we count how many times our vertical lines were crossed by it - In this data set, 4 times.\n",
        "\n",
        "Therefore, The whole Cluster can be dividied into 04 parts."
      ],
      "metadata": {
        "id": "ctmhUJmbw57B"
      }
    },
    {
      "cell_type": "code",
      "source": [
        "from sklearn.cluster import AgglomerativeClustering\n",
        "cluster = AgglomerativeClustering(n_clusters=4, affinity='euclidean', linkage='ward')  \n",
        "cluster.fit_predict(data)"
      ],
      "metadata": {
        "colab": {
          "base_uri": "https://localhost:8080/"
        },
        "id": "zcop0oVzw9rs",
        "outputId": "bc5e8bb3-e6ec-4d54-a2ee-f491ce497002"
      },
      "execution_count": 40,
      "outputs": [
        {
          "output_type": "execute_result",
          "data": {
            "text/plain": [
              "array([0, 0, 0, 0, 0, 0, 2, 0, 2, 0, 0, 0, 2, 2, 2, 2, 2, 2, 3, 1, 1, 1,\n",
              "       1, 1, 1, 1, 1, 3, 3, 3, 3, 1, 1, 1, 3])"
            ]
          },
          "metadata": {},
          "execution_count": 40
        }
      ]
    },
    {
      "cell_type": "markdown",
      "source": [
        "The above array shows how data points are clustered into 04 groups. \n",
        "\n",
        "\n",
        "\n",
        "\n",
        "\n"
      ],
      "metadata": {
        "id": "htC9AfeCyr_S"
      }
    },
    {
      "cell_type": "markdown",
      "source": [
        "Likewise we can divide the whole cluster into single element clusters by using the divisive clusterring algoritham.  "
      ],
      "metadata": {
        "id": "O-yBpXTUzX-K"
      }
    }
  ]
}